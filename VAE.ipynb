{
  "nbformat": 4,
  "nbformat_minor": 0,
  "metadata": {
    "colab": {
      "provenance": [],
      "gpuType": "T4",
      "authorship_tag": "ABX9TyO18p0E5b781G+jSDmxiKsw",
      "include_colab_link": true
    },
    "kernelspec": {
      "name": "python3",
      "display_name": "Python 3"
    },
    "language_info": {
      "name": "python"
    },
    "accelerator": "GPU"
  },
  "cells": [
    {
      "cell_type": "markdown",
      "metadata": {
        "id": "view-in-github",
        "colab_type": "text"
      },
      "source": [
        "<a href=\"https://colab.research.google.com/github/rishabt20/GenerativeDL/blob/main/VAE.ipynb\" target=\"_parent\"><img src=\"https://colab.research.google.com/assets/colab-badge.svg\" alt=\"Open In Colab\"/></a>"
      ]
    },
    {
      "cell_type": "code",
      "execution_count": 1,
      "metadata": {
        "id": "Vq3FzQq4ro3k"
      },
      "outputs": [],
      "source": [
        "import torch\n",
        "import numpy as np\n",
        "import torchvision\n",
        "import torch.optim as optim\n",
        "import torch.nn.functional as F\n",
        "import matplotlib.pyplot as plt\n",
        "\n",
        "from torch import nn\n",
        "from torch import distributions\n",
        "from torchsummary import summary\n",
        "from torchvision import transforms\n",
        "from torch.autograd import Variable"
      ]
    },
    {
      "cell_type": "code",
      "source": [
        "if torch.cuda.is_available():\n",
        "    device = torch.device('cuda')\n",
        "else:\n",
        "    device = torch.device('cpu')"
      ],
      "metadata": {
        "id": "7RODlqGv1ZVD"
      },
      "execution_count": 2,
      "outputs": []
    },
    {
      "cell_type": "code",
      "source": [
        "D_DIM=784\n",
        "BATCH_SIZE=128\n",
        "EPOCHS=1000\n",
        "LEARNING_RATE=.003\n",
        "H_DIM=256\n",
        "Z_DIM=16"
      ],
      "metadata": {
        "id": "1N0gOP4T0vwf"
      },
      "execution_count": 13,
      "outputs": []
    },
    {
      "cell_type": "code",
      "source": [
        "class Encoder(nn.Module):\n",
        "  def __init__(self,D_dim,H_dim,Z_dim):\n",
        "    super(Encoder,self).__init__()\n",
        "    self.linear1=nn.Linear(D_dim,H_dim)\n",
        "    self.linear2=nn.Linear(H_dim,H_dim)\n",
        "    self.mean=nn.Linear(H_dim,Z_dim)\n",
        "    self.log_covariance=nn.Linear(H_dim,Z_dim)\n",
        "  def forward(self,x):\n",
        "    x=self.linear1(x)\n",
        "    x=F.relu(x)\n",
        "    x=self.linear2(x)\n",
        "    x=F.relu(x)\n",
        "    mean=self.mean(x)\n",
        "    log_covariance=self.log_covariance(x)\n",
        "    covariance=torch.exp(log_covariance)\n",
        "    return torch.distributions.Normal(loc=mean,scale=(covariance))"
      ],
      "metadata": {
        "id": "ivjCTZD9uZe_"
      },
      "execution_count": 14,
      "outputs": []
    },
    {
      "cell_type": "code",
      "source": [
        "class Decoder(nn.Module):\n",
        "  def __init__(self,Z_dim,H_dim,D_out):\n",
        "    super(Decoder,self).__init__()\n",
        "    self.linear1=nn.Linear(Z_dim,H_dim)\n",
        "    self.linear2=nn.Linear(H_dim,D_out)\n",
        "  def forward(self,x):\n",
        "    x=self.linear1(x)\n",
        "    x=F.relu(x)\n",
        "    x=self.linear2(x)\n",
        "    mean=torch.tanh(x)\n",
        "    return torch.distributions.Normal(loc=mean,scale=torch.ones_like(mean))"
      ],
      "metadata": {
        "id": "fTiXllSIwHRn"
      },
      "execution_count": 15,
      "outputs": []
    },
    {
      "cell_type": "code",
      "source": [
        "class VAE(nn.Module):\n",
        "  def __init__(self,encoder,decoder):\n",
        "    super(VAE,self).__init__()\n",
        "    self.encoder=encoder\n",
        "    self.decoder=decoder\n",
        "  def forward(self,inp):\n",
        "    hidden_distn=self.encoder(inp)\n",
        "    hidden_sample=hidden_distn.rsample()\n",
        "    output_distn=self.decoder(hidden_sample)\n",
        "    return hidden_distn,output_distn"
      ],
      "metadata": {
        "id": "zn4emjnVzaEw"
      },
      "execution_count": 16,
      "outputs": []
    },
    {
      "cell_type": "code",
      "source": [
        "transform = transforms.Compose([\n",
        "    transforms.ToTensor(),\n",
        "    transforms.Normalize(.5,1)\n",
        "])\n",
        "mnist=torchvision.datasets.MNIST('./content',download=True,transform=transform)"
      ],
      "metadata": {
        "id": "Z4k0Hnk60N6i"
      },
      "execution_count": 17,
      "outputs": []
    },
    {
      "cell_type": "code",
      "source": [
        "dataloader=torch.utils.data.DataLoader(\n",
        "    mnist,batch_size=BATCH_SIZE,\n",
        "    shuffle=True,\n",
        "    pin_memory=torch.cuda.is_available()\n",
        ")"
      ],
      "metadata": {
        "id": "Oq_iSipGNoH2"
      },
      "execution_count": 18,
      "outputs": []
    },
    {
      "cell_type": "code",
      "source": [
        "encoder=Encoder(D_DIM,H_DIM,Z_DIM)\n",
        "decoder=Decoder(Z_DIM,H_DIM,D_DIM)\n",
        "vae=VAE(encoder,decoder).to(device)"
      ],
      "metadata": {
        "id": "PErR4oPV0oeE"
      },
      "execution_count": 19,
      "outputs": []
    },
    {
      "cell_type": "code",
      "source": [
        "print(vae)"
      ],
      "metadata": {
        "colab": {
          "base_uri": "https://localhost:8080/"
        },
        "id": "S_DoLMYjTFCJ",
        "outputId": "43941119-147b-48e5-87d2-6bcf4985738b"
      },
      "execution_count": 20,
      "outputs": [
        {
          "output_type": "stream",
          "name": "stdout",
          "text": [
            "VAE(\n",
            "  (encoder): Encoder(\n",
            "    (linear1): Linear(in_features=784, out_features=256, bias=True)\n",
            "    (linear2): Linear(in_features=256, out_features=256, bias=True)\n",
            "    (mean): Linear(in_features=256, out_features=16, bias=True)\n",
            "    (log_covariance): Linear(in_features=256, out_features=16, bias=True)\n",
            "  )\n",
            "  (decoder): Decoder(\n",
            "    (linear1): Linear(in_features=16, out_features=256, bias=True)\n",
            "    (linear2): Linear(in_features=256, out_features=784, bias=True)\n",
            "  )\n",
            ")\n"
          ]
        }
      ]
    },
    {
      "cell_type": "code",
      "source": [
        "optimizer=optim.Adam(vae.parameters(),lr=LEARNING_RATE)"
      ],
      "metadata": {
        "id": "yJ_CB7H5NI2N"
      },
      "execution_count": 21,
      "outputs": []
    },
    {
      "cell_type": "code",
      "source": [
        "from torch.distributions import MultivariateNormal\n",
        "\n",
        "mean = torch.zeros(Z_DIM)\n",
        "covariance = torch.eye(Z_DIM)\n",
        "\n",
        "distribution = MultivariateNormal(mean, covariance)\n",
        "vae=vae.to(device)\n",
        "for epoch in range(EPOCHS):\n",
        "  for data in dataloader:\n",
        "    inputs,_=data\n",
        "    inputs=inputs.view(-1,D_DIM).to(device)\n",
        "    optimizer.zero_grad()\n",
        "    hidden_distn,output_distn=vae(inputs)\n",
        "    min_squared_error=output_distn.log_prob(inputs).sum(-1).mean()\n",
        "    kl_divergence_error=torch.distributions.kl_divergence(\n",
        "        hidden_distn,torch.distributions.Normal(0,1.)\n",
        "\n",
        "    ).sum(-1).mean()\n",
        "    loss=-(min_squared_error-kl_divergence_error)\n",
        "    loss.backward()\n",
        "    optimizer.step()\n",
        "    l=loss.item()\n",
        "  print(epoch,l)\n",
        "  decoder=decoder.to(\"cpu\")\n",
        "  out=decoder.forward(distribution.rsample())\n",
        "  out=out.sample().view(28,28)\n",
        "  vae=vae.to(device)\n",
        "  plt.imshow(out.numpy())\n",
        "  plt.show()\n",
        ""
      ],
      "metadata": {
        "id": "yNvfd9e2NeKS"
      },
      "execution_count": null,
      "outputs": []
    },
    {
      "cell_type": "code",
      "source": [],
      "metadata": {
        "id": "Knrha7aUvC4J"
      },
      "execution_count": null,
      "outputs": []
    }
  ]
}